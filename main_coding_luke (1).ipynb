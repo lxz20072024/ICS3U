{
  "nbformat": 4,
  "nbformat_minor": 0,
  "metadata": {
    "colab": {
      "provenance": []
    },
    "kernelspec": {
      "name": "python3",
      "display_name": "Python 3"
    },
    "language_info": {
      "name": "python"
    }
  },
  "cells": [
    {
      "cell_type": "code",
      "execution_count": null,
      "metadata": {
        "id": "soeX7hBp0g-Z"
      },
      "outputs": [],
      "source": [
        "n = 5\n",
        "string = \" Hello world! \"\n",
        "\n",
        "print(string * n)"
      ]
    },
    {
      "cell_type": "code",
      "source": [
        "import time\n",
        "\n",
        "start_time = time.time()\n",
        "\n",
        "total = 0\n",
        "for i in range(10):\n",
        "  total += i\n",
        "print(\"Sum:\", total)\n",
        "\n",
        "end_time = time.time()\n",
        "time_taken = end_time - start_time\n",
        "print(\"Time: \", time_taken)"
      ],
      "metadata": {
        "id": "-P6KwEjPtjF-"
      },
      "execution_count": null,
      "outputs": []
    },
    {
      "cell_type": "code",
      "source": [
        "x = \"luke\"\n",
        "\n",
        "y = \"16\"\n",
        "print (x + \" is \" + y + \" years  old \")"
      ],
      "metadata": {
        "id": "fNhOMranuInA"
      },
      "execution_count": null,
      "outputs": []
    },
    {
      "cell_type": "code",
      "source": [
        "b = 2\n",
        "y = 8\n",
        "z = y/b\n",
        "print(z)"
      ],
      "metadata": {
        "id": "g1IduOWMRCRR"
      },
      "execution_count": null,
      "outputs": []
    },
    {
      "cell_type": "code",
      "source": [
        "one = 1\n",
        "two = 2\n",
        "three = 3\n",
        "\n",
        "print(one, two, three)"
      ],
      "metadata": {
        "id": "U5zYSvACUCjN"
      },
      "execution_count": null,
      "outputs": []
    },
    {
      "cell_type": "code",
      "source": [
        "name = input (\"name please sir\")\n",
        "print (name)"
      ],
      "metadata": {
        "id": "qvrnzzBb13bo"
      },
      "execution_count": null,
      "outputs": []
    },
    {
      "cell_type": "code",
      "source": [
        "X = 148\n",
        "y = 376\n",
        "print (X^y)"
      ],
      "metadata": {
        "id": "q71_IkM43GsO"
      },
      "execution_count": null,
      "outputs": []
    },
    {
      "cell_type": "code",
      "source": [
        "name = int(input (\"first number\"))\n",
        "print (name)\n",
        "\n",
        "name1 = int(input (\"second number\"))\n",
        "print (name1)\n",
        "print (name*name1)\n",
        "print (name/name1)\n",
        "print (name+name1)\n",
        "print (name-name1)"
      ],
      "metadata": {
        "id": "rM4PzxJ94yxy"
      },
      "execution_count": null,
      "outputs": []
    },
    {
      "cell_type": "code",
      "source": [
        "name = int(input (\"degree\"))\n",
        "print (name)\n",
        "\n",
        "name1 = int(input (\"radious\"))\n",
        "print (name1)\n",
        "print (name/name1)\n"
      ],
      "metadata": {
        "id": "KHlv5j1A-QEC"
      },
      "execution_count": null,
      "outputs": []
    },
    {
      "cell_type": "code",
      "source": [
        "input1 = int(input (\"first one\"))\n",
        "print (input1)\n",
        "\n",
        "input2 = int(input (\"second one\"))\n",
        "print (input2)\n",
        "\n",
        "if input1 > input2:\n",
        " print (\"first one is bigger than second one\")\n",
        "\n",
        "if input1 < input2:\n",
        " print (\"second one is bigger than first one\")"
      ],
      "metadata": {
        "id": "L8WwzHhRBQMm"
      },
      "execution_count": null,
      "outputs": []
    },
    {
      "cell_type": "code",
      "source": [
        "x = input(\"your name: \")\n",
        "\n",
        "y = int(input(\"your age: \"))\n",
        "\n",
        "z = (y - 10)\n",
        "\n",
        "print(\"Your name is\", x, \"and your age is\", y, \". 10 years back you were\", z, \"years old.\")"
      ],
      "metadata": {
        "id": "tNDOk_fXCIW8"
      },
      "execution_count": null,
      "outputs": []
    },
    {
      "cell_type": "code",
      "source": [
        "import random\n",
        "\n",
        "results = [random.randint(1, 6) for _ in range(30)]\n",
        "\n",
        "frequency = [results.count(i) for i in range(1, 7)]\n",
        "\n",
        "print(\"Number\\tFrequency\")\n",
        "for num, freq in enumerate(frequency, start=1):\n",
        "    print(f\"{num}\\t{freq}\")\n"
      ],
      "metadata": {
        "id": "pjNQxFQu__Zo"
      },
      "execution_count": null,
      "outputs": []
    },
    {
      "cell_type": "code",
      "source": [
        "pi = 3.1415926\n",
        "x = int(input(\"give me a radius\"))\n",
        "\n",
        "z = (x*3)\n",
        "\n",
        "volume_of_n_ball = V=4/3*pi*z\n",
        "\n",
        "print(volume_of_n_ball)"
      ],
      "metadata": {
        "id": "4oWYxvGEz1MP"
      },
      "execution_count": null,
      "outputs": []
    },
    {
      "cell_type": "code",
      "source": [
        "age = int(input(\"type your age\"))\n",
        "if age > 17:\n",
        "   print(\"you could watch R movie\")\n",
        "\n",
        "elif age < 17 and age > 12:\n",
        "  print(\"you could watch PG-13 movie\")"
      ],
      "metadata": {
        "id": "kRPayGzoCrO_"
      },
      "execution_count": null,
      "outputs": []
    },
    {
      "cell_type": "code",
      "source": [
        "num = int(input(\"Please enter a number: \"))\n",
        "mod = num % 2\n",
        "if mod > 0:\n",
        "    print(\"This is an odd number.\")\n",
        "else:\n",
        "    print(\"This is an even number.\")"
      ],
      "metadata": {
        "id": "kpuSYNoS1brj"
      },
      "execution_count": null,
      "outputs": []
    },
    {
      "cell_type": "code",
      "source": [
        "num = int(input(\"Please enter a number between 1 and 100: \"))\n",
        "\n",
        "if num >= 90:\n",
        "    print(\"Grade A\")\n",
        "elif num >= 80:\n",
        "    print(\"Grade B\")\n",
        "elif num >= 70:\n",
        "    print(\"Grade C\")\n",
        "elif num >= 65:\n",
        "    print(\"Grade D\")\n",
        "else:\n",
        "    print(\"Grade F\")"
      ],
      "metadata": {
        "id": "BmyyDz5l8-fH"
      },
      "execution_count": null,
      "outputs": []
    },
    {
      "cell_type": "code",
      "source": [
        "def multiplication_table():\n",
        "    num = int(input(\"please enter a number：\"))\n",
        "    print(f\"{num} whole calculation：\")\n",
        "    for i in range(1, 11):\n",
        "        print(f\"{num} x {i} = {num * i}\")\n",
        "\n",
        "multiplication_table()"
      ],
      "metadata": {
        "id": "vA-1A9qlCtnl"
      },
      "execution_count": null,
      "outputs": []
    },
    {
      "cell_type": "code",
      "source": [
        "x = int(input(\"Please enter a number: \"))\n",
        "y = int(input(\"Please enter another number: \"))\n",
        "\n",
        "z = ((x*y)/2)\n",
        "a = (x*x)\n",
        "b = (y*y)\n",
        "\n",
        "print(z)\n",
        "print(a)\n",
        "print(b)"
      ],
      "metadata": {
        "id": "xvYiUHfbFhCr"
      },
      "execution_count": null,
      "outputs": []
    },
    {
      "cell_type": "code",
      "source": [
        "x = int(input(\"Please enter a number: \"))\n",
        "\n",
        "print(x*1)\n",
        "print(x*2)\n",
        "print(x*3)\n",
        "print(x*4)\n",
        "print(x*5)\n",
        "print(x*6)\n",
        "print(x*7)\n",
        "print(x*8)\n",
        "print(x*9)\n",
        "print(x*10)"
      ],
      "metadata": {
        "id": "aeUhy-41HQYD"
      },
      "execution_count": null,
      "outputs": []
    },
    {
      "cell_type": "code",
      "source": [
        "def my_function(fname):\n",
        "  print(fname + \" Refsnes\")\n",
        "\n",
        "my_function(\"Emil\")\n",
        "my_function(\"Tobias\")\n",
        "my_function(\"Linus\")\n"
      ],
      "metadata": {
        "id": "fPTl2HMK_k8e"
      },
      "execution_count": null,
      "outputs": []
    },
    {
      "cell_type": "code",
      "source": [
        "def my_function(x):\n",
        "  return 5 * x\n",
        "\n",
        "print(my_function(3))\n",
        "print(my_function(5))\n",
        "print(my_function(9))"
      ],
      "metadata": {
        "id": "tjW8Z6uEA7pm"
      },
      "execution_count": null,
      "outputs": []
    },
    {
      "cell_type": "code",
      "source": [
        "def max_of_three(a, b, c):\n",
        "    return max(a, b, c)\n",
        "print(max_of_three(2, 7, -3))"
      ],
      "metadata": {
        "id": "aYyceR676GVG"
      },
      "execution_count": null,
      "outputs": []
    },
    {
      "cell_type": "code",
      "source": [
        "def sum(number1, number2, number3, number4, number5):\n",
        "  print(number1 + number2 + number3 + number4 + number5)\n",
        "\n",
        "number1 = 8\n",
        "number2 = 2\n",
        "number3 = 3\n",
        "number4 = 0\n",
        "number5 = 7\n",
        "\n",
        "print(sum(number1, number2, number3, number4, number5))"
      ],
      "metadata": {
        "id": "lo1wy74vBD-w"
      },
      "execution_count": null,
      "outputs": []
    },
    {
      "cell_type": "code",
      "source": [
        "def sum(number1, number2, number3, number4, number5):\n",
        "  print(number1 * number2 * number3 * number4 * number5)\n",
        "\n",
        "number1 = 8\n",
        "number2 = 2\n",
        "number3 = 3\n",
        "number4 = 1\n",
        "number5 = 7\n",
        "\n",
        "print(sum(number1, number2, number3, number4, number5))"
      ],
      "metadata": {
        "id": "lQFMhW1A4WDu"
      },
      "execution_count": null,
      "outputs": []
    },
    {
      "cell_type": "code",
      "source": [
        "def reverse(text):\n",
        "  lol = text[::-1]\n",
        "  print(lol)\n",
        "\n",
        "text = \"1234abcd\"\n",
        "\n",
        "print(reverse(text))"
      ],
      "metadata": {
        "id": "p7NY8syI6Jho"
      },
      "execution_count": null,
      "outputs": []
    },
    {
      "cell_type": "code",
      "source": [
        "num = int(input(\"please give me a number: \"))\n",
        "\n",
        "sum = num*(num-1)\n",
        "print(sum)"
      ],
      "metadata": {
        "id": "i-4jR0Cj6L6l"
      },
      "execution_count": null,
      "outputs": []
    },
    {
      "cell_type": "code",
      "source": [
        "def factorial(n):\n",
        "\n",
        "    if n == 0:\n",
        "        return 1\n",
        "\n",
        "    else:\n",
        "        return n * factorial(n-1)\n",
        "\n",
        "number = int(input(\"Enter a non-negative integer: \"))\n",
        "if number < 0:\n",
        "    print(\"Factorial is not defined for negative numbers.\")\n",
        "else:\n",
        "    print(\"Factorial of\", number, \"is\", factorial(number))"
      ],
      "metadata": {
        "id": "mQNH2eqnDy7U"
      },
      "execution_count": null,
      "outputs": []
    },
    {
      "cell_type": "code",
      "source": [
        "fruits = (\"apple\",\"banana\",\"cherry\")\n",
        "print (fruits[1])"
      ],
      "metadata": {
        "id": "EpAaI3wPFP2x"
      },
      "execution_count": null,
      "outputs": []
    },
    {
      "cell_type": "code",
      "source": [
        "fruits = (\"apple\", \"banana\", \"cherry\")\n",
        "for x in fruits:\n",
        "  print(x)"
      ],
      "metadata": {
        "id": "8lFMxZpMGyGl"
      },
      "execution_count": null,
      "outputs": []
    },
    {
      "cell_type": "code",
      "source": [
        "fruits = [\"apple\", \"banana\", \"cherry\"]\n",
        "for x in fruits:\n",
        "  print(x)\n",
        "  if x == \"apple\":\n",
        "    break"
      ],
      "metadata": {
        "id": "N2CybMPWHRUm"
      },
      "execution_count": null,
      "outputs": []
    },
    {
      "cell_type": "code",
      "source": [
        "fruits = [\"apple\", \"banana\", \"cherry\"]\n",
        "for x in fruits:\n",
        "  if x == \"banana\":\n",
        "    continue\n",
        "  print(x)"
      ],
      "metadata": {
        "id": "hbtgGObpH0in"
      },
      "execution_count": null,
      "outputs": []
    },
    {
      "cell_type": "code",
      "source": [
        "for x in range(10):\n",
        "  print(x)"
      ],
      "metadata": {
        "id": "6zoLPzinITcp"
      },
      "execution_count": null,
      "outputs": []
    },
    {
      "cell_type": "code",
      "source": [
        "adj = [\"red\", \"big\", \"tasty\"]\n",
        "fruits = [\"apple\", \"banana\", \"cherry\"]\n",
        "\n",
        "for x in adj:\n",
        "  for y in fruits:\n",
        "    print(x, y)"
      ],
      "metadata": {
        "id": "lQReuBp2Ik_N"
      },
      "execution_count": null,
      "outputs": []
    },
    {
      "cell_type": "code",
      "source": [
        "i = 1\n",
        "while i < 6:\n",
        "  print(i)\n",
        "  if i == 3:\n",
        "    break\n",
        "  i += 1"
      ],
      "metadata": {
        "id": "reOY0Nl2OHTm"
      },
      "execution_count": null,
      "outputs": []
    },
    {
      "cell_type": "code",
      "source": [
        "i = 0\n",
        "while i < 6:\n",
        "  i += 1\n",
        "  if i == 3:\n",
        "    continue\n",
        "  print(i)"
      ],
      "metadata": {
        "id": "0EnxKOM5MJyE"
      },
      "execution_count": null,
      "outputs": []
    },
    {
      "cell_type": "code",
      "source": [
        "i = 1\n",
        "while i < 6:\n",
        "  print(i)\n",
        "  i += 1\n",
        "else:\n",
        "  print(\"i is no longer less than 6\")"
      ],
      "metadata": {
        "id": "xtx8v-PmMURP"
      },
      "execution_count": null,
      "outputs": []
    },
    {
      "cell_type": "code",
      "source": [
        "i = 1\n",
        "while i < 11:\n",
        "  print(i)\n",
        "  i += 1"
      ],
      "metadata": {
        "id": "KkmkKMb8NCM3"
      },
      "execution_count": null,
      "outputs": []
    },
    {
      "cell_type": "code",
      "source": [
        "fruits = [\"apple\", \"banana\", \"cherry\"]\n",
        "for x in fruits:\n",
        "  print(x)"
      ],
      "metadata": {
        "id": "yzTMnwxAPLdC"
      },
      "execution_count": null,
      "outputs": []
    },
    {
      "cell_type": "code",
      "source": [
        "for x in range(2, 10):\n",
        "  print(x)"
      ],
      "metadata": {
        "id": "jbIJ-9wGP_Lo"
      },
      "execution_count": null,
      "outputs": []
    },
    {
      "cell_type": "code",
      "source": [
        "for x in range(1, 10):\n",
        "    for y in range(1, x + 1):\n",
        "        print(y, end='')\n",
        "    print()"
      ],
      "metadata": {
        "id": "CqF204QWSGMd"
      },
      "execution_count": null,
      "outputs": []
    },
    {
      "cell_type": "code",
      "source": [
        "x = int(input(\"Please enter a number: \"))\n",
        "\n",
        "num = x\n",
        "count = 0\n",
        "\n",
        "while num != 0:\n",
        "    num //= 10\n",
        "    count += 1\n",
        "\n",
        "print(\"Number of digits: \" + str(count))"
      ],
      "metadata": {
        "id": "86iPIFIUUp2A"
      },
      "execution_count": null,
      "outputs": []
    },
    {
      "cell_type": "code",
      "source": [
        "list1 = [10, 20, 30, 40, 50]\n",
        "\n",
        "for x in range(len(list1)-1, -1, -1):\n",
        "    print(list1[x])"
      ],
      "metadata": {
        "id": "sUYag2GCUDci"
      },
      "execution_count": null,
      "outputs": []
    },
    {
      "cell_type": "code",
      "source": [
        "for x in range(10, 0, -1):\n",
        "    for y in range(x, 0, -1):\n",
        "        print(y, end=\" \")\n",
        "    print()"
      ],
      "metadata": {
        "id": "-OCh52hxbLlJ"
      },
      "execution_count": null,
      "outputs": []
    },
    {
      "cell_type": "code",
      "source": [
        "for x in range(-10, 0):\n",
        "  print(x)"
      ],
      "metadata": {
        "id": "oUyI_XzjbqJ1"
      },
      "execution_count": null,
      "outputs": []
    },
    {
      "cell_type": "code",
      "source": [
        "n = 10\n",
        "num1 = 0\n",
        "num2 = 1\n",
        "next_number = num2\n",
        "count = 1\n",
        "\n",
        "while count <= n:\n",
        "    print(next_number, end=\" \")\n",
        "    count += 1\n",
        "    num1, num2 = num2, next_number\n",
        "    next_number = num1 + num2\n",
        "print()"
      ],
      "metadata": {
        "id": "N6uT79SreOL0"
      },
      "execution_count": null,
      "outputs": []
    },
    {
      "cell_type": "code",
      "source": [
        "def sum(q, w, e, r, t, y, u, i):\n",
        "  print(q * w * e * r *t * y * u * i)\n",
        "\n",
        "q = 1\n",
        "w = 2\n",
        "e = 3\n",
        "r = 3\n",
        "t = 3\n",
        "y = 3\n",
        "u = 4\n",
        "i = 5\n",
        "\n",
        "print(sum(q, w, e, r, t, y, u, i))"
      ],
      "metadata": {
        "id": "U9H6xo1x9w6p"
      },
      "execution_count": null,
      "outputs": []
    },
    {
      "cell_type": "code",
      "source": [
        "def sum(a, s, d, f, g):\n",
        "  print(a * s * d * f * g)\n",
        "\n",
        "a = 1\n",
        "s = 2\n",
        "d = 3\n",
        "f = 4\n",
        "g = 5\n",
        "\n",
        "print(sum(a, s, d, f, g))"
      ],
      "metadata": {
        "id": "H_QxsiaqAvM7"
      },
      "execution_count": null,
      "outputs": []
    },
    {
      "cell_type": "code",
      "source": [
        "x = int(input(\"Please enter a first number: \"))\n",
        "y = int(input(\"Please enter a second number: \"))\n",
        "z = int(input(\"Please enter a third number: \"))\n",
        "h = int(input(\"Please enter a fourth number: \"))\n",
        "j = int(input(\"Please enter a fifth number: \"))\n",
        "\n",
        "def sum(a, s, d, f, g):\n",
        "  print(a * s * d * f * g)\n",
        "\n",
        "a = x\n",
        "s = y\n",
        "d = z\n",
        "f = h\n",
        "g = j\n",
        "\n",
        "print(sum(a, s, d, f, g))"
      ],
      "metadata": {
        "id": "2-H-gnZNBMrI"
      },
      "execution_count": null,
      "outputs": []
    },
    {
      "cell_type": "code",
      "source": [
        "def unique_elements(y):\n",
        "    z = []\n",
        "    for item in y:\n",
        "        if item not in z:\n",
        "            z.append(item)\n",
        "    return z\n",
        "\n",
        "x = [1, 2, 2, 3, 3, 3, 3, 3, 3, 3, 3, 4, 4, 5, 6, 6, 7, 8, 9, 10, 10, 10, 10]\n",
        "new_list = unique_elements(x)\n",
        "print(new_list)"
      ],
      "metadata": {
        "id": "toskDnrDHnEO"
      },
      "execution_count": null,
      "outputs": []
    },
    {
      "cell_type": "code",
      "source": [
        "def min_of_eight(a, b, c, d, e, f, g, h):\n",
        "    return min(a, b, c, d, e, f, g, h)\n",
        "print(min_of_eight(1, 2, 3, 3, 3, 3, 4, 5))"
      ],
      "metadata": {
        "id": "b6BA0RDAKObZ"
      },
      "execution_count": null,
      "outputs": []
    },
    {
      "cell_type": "code",
      "source": [
        "num = [1, 2, 3, 3, 3, 4, 5]\n",
        "num.pop(2)\n",
        "num.pop(3)\n",
        "print(num)"
      ],
      "metadata": {
        "id": "dG3xEkX_K0Kz"
      },
      "execution_count": null,
      "outputs": []
    },
    {
      "cell_type": "code",
      "source": [
        "def sum_of_numbers():\n",
        "    numbers = []\n",
        "    for i in range(5):\n",
        "        num = int(input(f\"Please enter the {i+1}th number: \"))\n",
        "        numbers.append(num)\n",
        "\n",
        "    result = 1\n",
        "    for num in numbers:\n",
        "        result *= num\n",
        "\n",
        "    return result\n",
        "\n",
        "print(sum_of_numbers())"
      ],
      "metadata": {
        "id": "Mqbi7AlmC7gK"
      },
      "execution_count": null,
      "outputs": []
    },
    {
      "cell_type": "code",
      "source": [
        "def product_of_numbers():\n",
        "    product = 1\n",
        "    for i in range(5):\n",
        "        product *= int(input(\"Please enter the {i+1}th number: \"))\n",
        "    return product\n",
        "\n",
        "print(product_of_numbers())"
      ],
      "metadata": {
        "id": "5O7aX_i4Djnp"
      },
      "execution_count": null,
      "outputs": []
    },
    {
      "cell_type": "code",
      "source": [
        "import math\n",
        "\n",
        "q = math.pow(3,10)\n",
        "print(q)"
      ],
      "metadata": {
        "id": "3mVzezdYEBsm"
      },
      "execution_count": null,
      "outputs": []
    },
    {
      "cell_type": "code",
      "source": [
        "import numpy as np\n",
        "\n",
        "arr = np.array([1, 2, 3, 4, 5])\n",
        "\n",
        "print(arr)\n",
        "\n",
        "print(type(arr))"
      ],
      "metadata": {
        "id": "hBseF8nmLjYd"
      },
      "execution_count": null,
      "outputs": []
    },
    {
      "cell_type": "code",
      "source": [
        "import math\n",
        "\n",
        "x = float(input(\"Please input the first number: \"))\n",
        "y = float(input(\"Please input the second number: \"))\n",
        "t = input(\"Press the function (add, subtract, multiply, divide, power, sin1(for first), sin2(for second), cos1, cos2, tan1, tan2): \")\n",
        "\n",
        "if t == \"add\":\n",
        "    print(x + y)\n",
        "elif t == \"subtract\":\n",
        "    print(x - y)\n",
        "elif t == \"multiply\":\n",
        "    print(x * y)\n",
        "elif t == \"divide\":\n",
        "    if y != 0:\n",
        "        print(x / y)\n",
        "    else:\n",
        "        print(\"No zero!\")\n",
        "elif t == \"power\":\n",
        "    print(x ** y)\n",
        "elif t == \"sin1\":\n",
        "    print(math.sin(x))\n",
        "elif t == \"sin2\":\n",
        "    print(math.sin(y))\n",
        "elif t == \"cos1\":\n",
        "    print(math.cos(x))\n",
        "elif t == \"cos2\":\n",
        "    print(math.cos(y))\n",
        "elif t == \"tan1\":\n",
        "    print(math.tan(x))\n",
        "elif t == \"tan2\":\n",
        "    print(math.tan(y))\n",
        "else:\n",
        "    print(\"Math error, please recheck your input\")"
      ],
      "metadata": {
        "id": "1SrRX6LNPotx"
      },
      "execution_count": null,
      "outputs": []
    },
    {
      "cell_type": "code",
      "source": [
        "import numpy as np\n",
        "\n",
        "arr = np.array([12, 13, 14, 15, 16, 17, 18, 19, 20, 21, 22, 23, 24, 25, 26, 27, 28, 29, 30, 31, 32, 33, 34, 35, 36, 37, 38])\n",
        "\n",
        "print(arr)\n",
        "\n",
        "print(type(arr))\n"
      ],
      "metadata": {
        "id": "IKOod0OdYXEQ"
      },
      "execution_count": null,
      "outputs": []
    },
    {
      "cell_type": "code",
      "source": [
        "import numpy as np\n",
        "x = np.array([1, 3, 5, 7, 9])\n",
        "print(x[0], x[1], x[2], x[3])"
      ],
      "metadata": {
        "id": "UYPZbsqvcUG3"
      },
      "execution_count": null,
      "outputs": []
    },
    {
      "cell_type": "code",
      "source": [
        "import numpy as np\n",
        "x = np.array([1, 2, 3, 4])\n",
        "print(x[0], x[1], x[2], x[3])\n",
        "\n",
        "y = np.array([5, 6, 7, 8])\n",
        "print(y[0], y[1], y[2], y[3])\n",
        "\n",
        "z = np.concatenate((x, y))\n",
        "\n",
        "print(z)"
      ],
      "metadata": {
        "id": "uB3f1RfSgdUe"
      },
      "execution_count": null,
      "outputs": []
    },
    {
      "cell_type": "code",
      "source": [
        "import numpy as np\n",
        "\n",
        "x = np.array([1, 3, 3, 6, 7])\n",
        "print(x[0], x[1], x[2], x[3], x[4])\n",
        "\n",
        "y = np.array([2, 5, 5, 3, 3])\n",
        "print(y[0], y[1], y[2], y[3], y[4])\n",
        "\n",
        "z = np.multiply(x, y)\n",
        "\n",
        "print(z)"
      ],
      "metadata": {
        "id": "DQBzvIiV06qX"
      },
      "execution_count": null,
      "outputs": []
    },
    {
      "cell_type": "code",
      "source": [
        "num = int(input(\"Enter a Number:\"))\n",
        "if num % 2 == 0:\n",
        "  print(\"Given number is Even\")\n",
        "else:\n",
        "  print(\"Given number is Odd\")"
      ],
      "metadata": {
        "id": "hqlk63llCMCm"
      },
      "execution_count": null,
      "outputs": []
    },
    {
      "cell_type": "code",
      "source": [
        "num = int(input(\"Enter a Number:\"))\n",
        "if num % 18 == 0:\n",
        "  print(\"You are eligible to vote\")\n",
        "else:\n",
        "  print(\"Invalid input. Please input a valid age.\")"
      ],
      "metadata": {
        "id": "8mj6bnNmO1h1"
      },
      "execution_count": null,
      "outputs": []
    },
    {
      "cell_type": "code",
      "source": [
        "import random\n",
        "\n",
        "a = [\"rock\", \"paper\", \"scissors\"]\n",
        "ai = random.choice(a)\n",
        "player = input(\"Please write Rock, Paper, or Scissors. You have choosen: \")\n",
        "player = (player.lower())\n",
        "print(\"Your opponent choose \" + ai)\n",
        "\n",
        "if (player == \"rock\" or player == \"paper\" or player == \"scissors\"):\n",
        "\n",
        "    if ai == player:\n",
        "      print(\"it's a tie as you both choose \" + player)\n",
        "\n",
        "    elif ai == \"rock\" and player == \"paper\":\n",
        "      print(\"Good job, you win\")\n",
        "\n",
        "    elif ai == \"rock\" and player == \"scissors\":\n",
        "     print(\"Boo, you lose\")\n",
        "\n",
        "    elif ai == \"paper\" and player == \"scissors\":\n",
        "     print(\"Good job, you win\")\n",
        "\n",
        "    elif ai == \"paper\" and player == \"rock\":\n",
        "      print(\"Boo, you lose\")\n",
        "\n",
        "    elif ai == \"scissors\" and player == \"rock\":\n",
        "      print(\"Good job, you win\")\n",
        "\n",
        "    elif ai == \"scissors\" and player == \"paper\":\n",
        "     print(\"Boo, you lose\")\n",
        "\n",
        "else:\n",
        "  print(\"Invalid command entry, fixed decision on opponent's win\")"
      ],
      "metadata": {
        "id": "VT-8ApX0Xu_p"
      },
      "execution_count": null,
      "outputs": []
    },
    {
      "cell_type": "code",
      "source": [
        "import matplotlib.pyplot as plt\n",
        "import numpy as np\n",
        "\n",
        "ypoints = np.array([20, 22, 25, 24, 23, 26, 28])\n",
        "\n",
        "plt.plot(ypoints, marker = 'o', ms = 20, mec = 'hotpink', mfc = 'hotpink')\n",
        "plt.plot(ypoints, color = 'r')\n",
        "\n",
        "plt.title(\"Temperature varation for each day of the week.\")\n",
        "plt.xlabel(\"Days of the week\")\n",
        "plt.ylabel(\"Temperature of each day in Celsius\")\n",
        "\n",
        "plt.show()"
      ],
      "metadata": {
        "id": "4nWVLAvsw6Z8"
      },
      "execution_count": null,
      "outputs": []
    },
    {
      "cell_type": "code",
      "source": [
        "import matplotlib.pyplot as plt\n",
        "import numpy as np\n",
        "from google.colab import files\n",
        "files.upload()"
      ],
      "metadata": {
        "id": "illVmiG74-IP"
      },
      "execution_count": null,
      "outputs": []
    },
    {
      "cell_type": "code",
      "source": [
        "import pandas\n",
        "df = pandas.read_csv('data.csv')\n",
        "print(df)"
      ],
      "metadata": {
        "id": "N5tmhUV1-auk"
      },
      "execution_count": null,
      "outputs": []
    },
    {
      "cell_type": "code",
      "source": [
        "import matplotlib.pyplot as plt\n",
        "import pandas as pd\n",
        "from google.colab import files\n",
        "\n",
        "uploaded = files.upload()\n",
        "\n",
        "df = pd.read_csv('data.csv')\n",
        "\n",
        "x1 = list(df.iloc[:, 0])\n",
        "y1 = list(df.iloc[:, 3])\n",
        "\n",
        "plt.title(\"The plot of duration and Pulse\")\n",
        "\n",
        "plt.bar(x1, y1, color='blue', linestyle='dashed',  label='y1')\n",
        "\n",
        "plt.legend()\n",
        "\n",
        "plt.show()"
      ],
      "metadata": {
        "id": "8lRaImMWzMeu"
      },
      "execution_count": null,
      "outputs": []
    },
    {
      "cell_type": "code",
      "source": [
        "import matplotlib.pyplot as plt\n",
        "import pandas as pd\n",
        "from google.colab import files\n",
        "\n",
        "uploaded = files.upload()\n",
        "\n",
        "df = pd.read_csv('population_data.csv')\n",
        "\n",
        "x1 = list(df.iloc[:, 0])\n",
        "y1 = list(df.iloc[:, 3])\n",
        "\n",
        "plt.title(\"The plot of duration and Pulse\")\n",
        "\n",
        "plt.plot(x1, color='blue', linestyle='dashed', label='y1')\n",
        "plt.plot(y1, color='red', linestyle='dashed', label='y2')\n",
        "\n",
        "plt.legend()\n",
        "\n",
        "plt.show()"
      ],
      "metadata": {
        "id": "QAEq9o-FFO4n"
      },
      "execution_count": null,
      "outputs": []
    },
    {
      "cell_type": "code",
      "source": [
        "import math\n",
        "\n",
        "a = int(input(\"Enter first Number: \"))\n",
        "b = int(input(\"Enter second Number: \"))\n",
        "c = int(input(\"Enter third Number: \"))\n",
        "\n",
        "math = b**2 - 4*a*c\n",
        "\n",
        "if math >= 0:\n",
        "    x1 = (-b + math.sqrt(math)) / (2*a)\n",
        "    print(\"Root 1:\", x1)\n",
        "    x2 = (-b + math.sqrt(math)) / (2*a)\n",
        "    print(\"Root 2:\", x2)\n",
        "else:\n",
        "    print(\"Error please try again\")"
      ],
      "metadata": {
        "id": "rKXKCh8NB9aC"
      },
      "execution_count": null,
      "outputs": []
    },
    {
      "cell_type": "code",
      "source": [
        "import math\n",
        "\n",
        "a = int(input(\"Enter first Number: \"))\n",
        "b = int(input(\"Enter second Number: \"))\n",
        "c = int(input(\"Enter third Number: \"))\n",
        "\n",
        "D = b * b - 4 * a * c\n",
        "\n",
        "if D < 0:\n",
        "    print(\"Error, no answer\")\n",
        "else:\n",
        "    x1 = (-b + math.sqrt(D)) / (2 * a)\n",
        "    x2 = (-b - math.sqrt(D)) / (2 * a)\n",
        "    print(\"the two roots in the fuction is：x1={:.2f}，x2={:.2f}\".format(x1, x2))"
      ],
      "metadata": {
        "id": "Jvl3IsZMHEQt"
      },
      "execution_count": null,
      "outputs": []
    },
    {
      "cell_type": "code",
      "source": [
        "import numpy as np\n",
        "import math\n",
        "#每次都是tmd各种import 那天import ai如何帮我写代码（怒）\n",
        "def solve_quad(a, b, c):\n",
        "    if a == 0:\n",
        "        print('This is not a quadratic equation.')\n",
        "#没错我一身反骨哥们就放前面咋了\n",
        "    else:\n",
        "        delta = b * b - 4 * a * c\n",
        "        if delta == 0:\n",
        "            x = -b / (2 * a)\n",
        "            print('This equation has one real root: x =', x)\n",
        "            return x\n",
        "#这个就是两个实数根（乐）\n",
        "        elif delta > 0:\n",
        "            x1 = (-b + np.sqrt(delta)) / (2 * a)\n",
        "            x2 = (-b - np.sqrt(delta)) / (2 * a)\n",
        "            print('This equation has two real roots: x1 =', x1, 'and x2 =', x2)\n",
        "            return x1, x2\n",
        "#这就是两个根（应该）\n",
        "        else:\n",
        "            real_part = -b / (2 * a)\n",
        "            imag_part = np.sqrt(-delta) / (2 * a)\n",
        "            x1 = complex(real_part, imag_part)\n",
        "            x2 = complex(real_part, -imag_part)\n",
        "            print('This equation has two complex roots: x1 =', x1, 'and x2 =', x2)\n",
        "            return x1, x2\n",
        "#好好好这样是吧（悲）\n",
        "a = int(input(\"Enter coefficient of x^2: \"))\n",
        "b = int(input(\"Enter coefficient of x: \"))\n",
        "c = int(input(\"Enter constant term: \"))\n",
        "#破防了\n",
        "solve_quad(a, b, c)"
      ],
      "metadata": {
        "id": "sApK69Z0S-tp"
      },
      "execution_count": null,
      "outputs": []
    },
    {
      "cell_type": "code",
      "source": [
        "import math\n",
        "import matplotlib.pyplot as plt\n",
        "import pandas as pd\n",
        "from google.colab import files\n",
        "\n",
        "# import ai\n",
        "a = int(input(\"Press 1 for bar graph\") )\n",
        "b = int(input(\"Press 2 for line graph \"))\n",
        "c = int(input(\"Press 3 for extrapolation\"))\n",
        "\n",
        "uploaded = files.upload()\n",
        "df = pd.read_csv('population_data.csv')\n",
        "\n",
        "plt.title(\"The plot of population\")\n",
        "\n",
        "plt.plot(a, color='blue', linestyle='dashed', label='y1')\n",
        "plt.plot(b, color='red', linestyle='dashed', label='y2')\n",
        "plt.plot(c, color='blue', linestyle='dashed', label='y1')\n",
        "\n",
        "plt.legend()\n",
        "\n",
        "plt.show()"
      ],
      "metadata": {
        "id": "WFsfnGzUQyxy"
      },
      "execution_count": null,
      "outputs": []
    },
    {
      "cell_type": "code",
      "source": [
        "import math\n",
        "import random\n",
        "import matplotlib.pyplot as plt\n",
        "import pandas as pd\n",
        "from google.colab import files\n",
        "# import ai for writing for me\n",
        "\n",
        "uploaded = files.upload()\n",
        "df = pd.read_csv('population_data.csv')\n",
        "\n",
        "def extrapolate_population(df, future_years):\n",
        "    years = df['Year'].values\n",
        "    population = df['Population'].values\n",
        "    growth_rate = (population[-1] - population[0]) / (years[-1] - years[0])\n",
        "    future_population = population[-1] + growth_rate * (future_years - years[-1])\n",
        "    return future_population\n",
        "\n",
        "graph_type = int(input(\"Press 1 for bar graph, 2 for line graph, Press 3 for extrapolation: \"))\n",
        "\n",
        "if graph_type == 1:\n",
        "    plt.bar(df['Year'], df['Population'], color='blue')\n",
        "    plt.title(\"Population Trend Over Years (Bar Graph)\")\n",
        "    plt.xlabel(\"Year\")\n",
        "    plt.ylabel(\"Population\")\n",
        "    plt.show()\n",
        "\n",
        "elif graph_type == 2:\n",
        "    plt.plot(df['Year'], df['Population'], color='red', linestyle='dashed')\n",
        "    plt.title(\"Population Trend Over Years (Line Graph)\")\n",
        "    plt.xlabel(\"Year\")\n",
        "    plt.ylabel(\"Population\")\n",
        "    plt.show()\n",
        "\n",
        "else:\n",
        "    future_years = range(2101, 2121)\n",
        "    future_population = extrapolate_population(df, future_years)\n",
        "    plt.plot(df['Year'], df['Population'], color='blue', linestyle='dashed', label='Historical Data')\n",
        "    plt.plot(future_years, future_population, color='green', label='Extrapolated Data')\n",
        "    plt.title(\"Population Extrapolation\")\n",
        "    plt.xlabel(\"Year\")\n",
        "    plt.ylabel(\"Population\")\n",
        "    plt.legend()\n",
        "    plt.show()"
      ],
      "metadata": {
        "id": "bCwFJxuSVbPC"
      },
      "execution_count": null,
      "outputs": []
    },
    {
      "cell_type": "code",
      "source": [],
      "metadata": {
        "id": "NYMtfaXCWLYc"
      },
      "execution_count": null,
      "outputs": []
    }
  ]
}